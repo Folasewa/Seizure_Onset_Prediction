{
 "cells": [
  {
   "cell_type": "markdown",
   "id": "9ee39237",
   "metadata": {},
   "source": [
    "Import Libraries"
   ]
  },
  {
   "cell_type": "code",
   "execution_count": 1,
   "id": "14015f59",
   "metadata": {},
   "outputs": [],
   "source": [
    "import os\n",
    "import pandas as pd\n",
    "import numpy as np\n",
    "import matplotlib.pyplot as plt\n",
    "from scipy.signal import butter, lfilter, welch\n",
    "from scipy import stats\n",
    "import mne\n",
    "from mne.filter import filter_data\n",
    "from sklearn.model_selection import train_test_split, StratifiedKFold\n",
    "from sklearn.preprocessing import StandardScaler\n",
    "from sklearn.ensemble import RandomForestClassifier\n",
    "from sklearn.metrics import classification_report, confusion_matrix, f1_score"
   ]
  },
  {
   "cell_type": "markdown",
   "id": "60b8be98",
   "metadata": {},
   "source": [
    "Summary file parsing to extract seizure start and end times"
   ]
  },
  {
   "cell_type": "code",
   "execution_count": 2,
   "id": "91af3f9f",
   "metadata": {},
   "outputs": [],
   "source": [
    "def extract_seizure_events_from_txt(folder_path):\n",
    "    \"\"\"\n",
    "    Parses all .txt summary files in a folder to extract seizure start/end times\n",
    "    for each corresponding .edf file.\n",
    "\n",
    "    \"\"\"\n",
    "    seizure_info = {}\n",
    "\n",
    "    txt_files = [f for f in os.listdir(folder_path) if f.endswith('.txt')]\n",
    "    if not txt_files:\n",
    "        raise FileNotFoundError(\"No .txt summary files found in the folder.\")\n",
    "\n",
    "    for txt_file in txt_files:\n",
    "        summary_file = os.path.join(folder_path, txt_file)\n",
    "        current_file = None\n",
    "        current_start = None\n",
    "\n",
    "        with open(summary_file, \"r\") as f:\n",
    "            for line in f:\n",
    "                line = line.strip()\n",
    "\n",
    "                if line.startswith(\"File Name:\"):\n",
    "                    current_file = line.split(\":\", 1)[1].strip()\n",
    "                    if current_file not in seizure_info:\n",
    "                        seizure_info[current_file] = []\n",
    "\n",
    "                elif line.startswith(\"Seizure Start Time:\"):\n",
    "                    current_start = int(line.split(\":\", 1)[1].strip().split()[0])\n",
    "\n",
    "                elif line.startswith(\"Seizure End Time:\") and current_start is not None:\n",
    "                    end_time = int(line.split(\":\", 1)[1].strip().split()[0])\n",
    "                    seizure_info[current_file].append((current_start, end_time))\n",
    "                    current_start = None \n",
    "\n",
    "    return seizure_info\n"
   ]
  },
  {
   "cell_type": "markdown",
   "id": "53420657",
   "metadata": {},
   "source": [
    "Data Loading"
   ]
  },
  {
   "cell_type": "code",
   "execution_count": 3,
   "id": "3968377a",
   "metadata": {},
   "outputs": [],
   "source": [
    "def load_edf_with_seizures(edf_path, seizure_times, sampling_rate=256):\n",
    "    \"\"\"\n",
    "    Load EDF file and return data with seizure annotations.\n",
    "    Keeps only first occurrence of duplicate base channel names.\n",
    "    \"\"\"\n",
    "    raw = mne.io.read_raw_edf(edf_path, preload=True, verbose=False)\n",
    "\n",
    "    base_names = [name.split('-')[0] + '-' + name.split('-')[1] if name.count('-') >= 2 else name for name in raw.ch_names]\n",
    "\n",
    "    seen = set()\n",
    "    keep = []\n",
    "    for i, name in enumerate(base_names):\n",
    "        if name not in seen:\n",
    "            seen.add(name)\n",
    "            keep.append(raw.ch_names[i])\n",
    "\n",
    "    raw.pick_channels(keep)\n",
    "\n",
    "    seizure_samples = [\n",
    "        (int(start * sampling_rate), int(end * sampling_rate))\n",
    "        for start, end in seizure_times\n",
    "    ]\n",
    "\n",
    "    return {\n",
    "        'raw': raw,\n",
    "        'seizure_samples': seizure_samples\n",
    "    }\n"
   ]
  },
  {
   "cell_type": "code",
   "execution_count": 4,
   "id": "079201da",
   "metadata": {},
   "outputs": [],
   "source": [
    "def batch_load_edf_with_seizures(data_folder):\n",
    "    \"\"\"\n",
    "    Loads all .edf files in a folder with their seizure annotations.\n",
    "\n",
    "    \"\"\"\n",
    "    seizure_info = extract_seizure_events_from_txt(data_folder)\n",
    "    loaded_data = {}\n",
    "\n",
    "    for fname in os.listdir(data_folder):\n",
    "        if fname.endswith('.edf') and fname in seizure_info:\n",
    "            edf_path = os.path.join(data_folder, fname)\n",
    "            seizure_times = seizure_info[fname]\n",
    "\n",
    "            try:\n",
    "                result = load_edf_with_seizures(edf_path, seizure_times)\n",
    "                loaded_data[fname] = result\n",
    "                print(f\"Loaded {fname} with {len(result['seizure_samples'])} seizure intervals\")\n",
    "            except Exception as e:\n",
    "                print(f\"Failed to load {fname}: {e}\")\n",
    "\n",
    "    return loaded_data"
   ]
  },
  {
   "cell_type": "markdown",
   "id": "85e509f4",
   "metadata": {},
   "source": [
    "Data Processing"
   ]
  },
  {
   "cell_type": "code",
   "execution_count": 5,
   "id": "13260806",
   "metadata": {},
   "outputs": [],
   "source": [
    "def process_single_file(raw, edf_filename, output_folder, selected_channels, seizure_windows):\n",
    "    \"\"\"\n",
    "    Preprocesses EEG and saves .npz with metadata.\n",
    "    \"\"\"\n",
    "    os.makedirs(output_folder, exist_ok=True)\n",
    "\n",
    "    raw.pick_channels(selected_channels)\n",
    "    data = raw.get_data()\n",
    "    sfreq = raw.info['sfreq']\n",
    "\n",
    "\n",
    "    data = filter_data(data, sfreq=sfreq, l_freq=0.5, h_freq=25.0, verbose=False)\n",
    "\n",
    "    base_name = os.path.splitext(edf_filename)[0]\n",
    "    save_path = os.path.join(output_folder, f\"{base_name}_preprocessed.npz\")\n",
    "    np.savez(save_path,\n",
    "             data=data,\n",
    "             seizure_windows=np.array(seizure_windows, dtype=np.int32),\n",
    "             sampling_rate=sfreq,\n",
    "             channels=np.array(selected_channels),\n",
    "             file_name=edf_filename)\n",
    "\n",
    "    return data"
   ]
  },
  {
   "cell_type": "code",
   "execution_count": 6,
   "id": "62c7170a",
   "metadata": {},
   "outputs": [],
   "source": [
    "def preprocess_and_save(edf_folder):\n",
    "    \"\"\"\n",
    "    Batch preprocesses and saves all EDF files in folder.\n",
    "    Skips files missing required channels.\n",
    "    \"\"\"\n",
    "    output_folder = os.path.join(edf_folder, 'preprocessed')\n",
    "    os.makedirs(output_folder, exist_ok=True)\n",
    "\n",
    "    selected_channels = [\n",
    "        'FP1-F7', 'F7-T7', 'T7-P7', 'P7-O1',\n",
    "        'FP1-F3', 'F3-C3', 'C3-P3', 'P3-O1',\n",
    "        'FP2-F4', 'F4-C4', 'C4-P4', 'P4-O2',\n",
    "        'FP2-F8', 'F8-T8',  'P8-O2',\n",
    "        'FZ-CZ', 'CZ-PZ'\n",
    "    ]\n",
    "\n",
    "    seizure_dict = extract_seizure_events_from_txt(edf_folder)\n",
    "\n",
    "    for fname in os.listdir(edf_folder):\n",
    "        if fname.endswith('.edf'):\n",
    "            edf_path = os.path.join(edf_folder, fname)\n",
    "            seizure_times = seizure_dict.get(fname, [])\n",
    "\n",
    "            try:\n",
    "                # Load with filtering of duplicate channels\n",
    "                data_obj = load_edf_with_seizures(edf_path, seizure_times)\n",
    "                raw = data_obj['raw']\n",
    "\n",
    "                # Check if all selected channels are present (after cleaning)\n",
    "                available_channels = set(raw.ch_names)\n",
    "                if not all(chan in available_channels for chan in selected_channels):\n",
    "                    print(f\"Skipping {fname}: missing expected channels.\")\n",
    "                    continue\n",
    "\n",
    "                # Now process and save\n",
    "                process_single_file(\n",
    "                    raw=raw,\n",
    "                    edf_filename=fname,\n",
    "                    output_folder=output_folder,\n",
    "                    selected_channels=selected_channels,\n",
    "                    seizure_windows=data_obj['seizure_samples']\n",
    "                )\n",
    "\n",
    "                base_name = os.path.splitext(fname)[0]\n",
    "                print(f\"Saved to: {os.path.join(output_folder, base_name + '_preprocessed.npz')}\\n\")\n",
    "\n",
    "            except Exception as e:\n",
    "                print(f\"Failed to process {fname}: {e}\")\n"
   ]
  },
  {
   "cell_type": "code",
   "execution_count": 7,
   "id": "dee4417f",
   "metadata": {},
   "outputs": [],
   "source": [
    "def segment_and_label(eeg_data, seizure_windows, window_duration=2.0, sampling_rate=256, overlap=0.5):\n",
    "    \"\"\"\n",
    "    Segments EEG into overlapping windows and labels them\n",
    "    \"\"\"\n",
    "    window_size = int(window_duration*sampling_rate)\n",
    "    step_size = int(window_size*(1-overlap))\n",
    "    channels, total_samples = eeg_data.shape\n",
    "    X,y = [], []\n",
    "    for start in range(0, total_samples-window_size + 1, step_size):\n",
    "        end = start + window_size\n",
    "        window = eeg_data[:, start:end]\n",
    "\n",
    "        label = 0\n",
    "        for sz_start, sz_end in seizure_windows:\n",
    "            if end > sz_start and start < sz_end:\n",
    "                label = 1\n",
    "                break\n",
    "        X.append(window) \n",
    "        y.append(label)\n",
    "\n",
    "    X = np.stack(X)\n",
    "    y = np.stack(y)\n",
    "\n",
    "    return X,y"
   ]
  },
  {
   "cell_type": "code",
   "execution_count": 13,
   "id": "68540407",
   "metadata": {},
   "outputs": [],
   "source": [
    "def batch_segment_preprocessed(folder_path):\n",
    "    \"\"\"\n",
    "    Segments all preprocessed .npz files in 'preprocessed/' subfolder\n",
    "    into 2s windows and labels them.\n",
    "    \"\"\"\n",
    "    preprocessed_folder = os.path.join(folder_path, 'preprocessed')\n",
    "    output_folder = os.path.join(folder_path, 'segmented')\n",
    "    os.makedirs(output_folder, exist_ok=True)\n",
    "\n",
    "    for fname in os.listdir(preprocessed_folder):\n",
    "        if fname.endswith(\"_preprocessed.npz\"):\n",
    "            full_path = os.path.join(preprocessed_folder, fname)\n",
    "\n",
    "            try:\n",
    "                npz = np.load(full_path, allow_pickle=True)\n",
    "                eeg = npz['data']\n",
    "                sz_windows = npz[\"seizure_windows\"]\n",
    "                sfreq = int(npz['sampling_rate'])\n",
    "                file_name = str(npz['file_name'])\n",
    "                channels = list(npz['channels'])\n",
    "                X, y = segment_and_label(eeg_data=eeg,\n",
    "                         seizure_windows=sz_windows,\n",
    "                         window_duration=2.0,\n",
    "                         sampling_rate=sfreq,\n",
    "                         overlap=0.5)\n",
    "                base_name = fname.replace('_preprocessed.npz', '')\n",
    "                save_path = os.path.join(output_folder, f\"{base_name}_segmented.npz\")\n",
    "                np.savez(save_path,\n",
    "                         X=X,\n",
    "                         y=y,\n",
    "                         sampling_rate=sfreq,\n",
    "                         channels=channels,\n",
    "                         file_name=file_name)\n",
    "\n",
    "                print(f\"Segmented and saved: {save_path}\")\n",
    "\n",
    "            except Exception as e:\n",
    "                print(f\"Failed on {fname}: {e}\")\n"
   ]
  },
  {
   "cell_type": "markdown",
   "id": "18e7c8b5",
   "metadata": {},
   "source": [
    "Concatenate all NPZ files"
   ]
  },
  {
   "cell_type": "code",
   "execution_count": 9,
   "id": "a02c5d79",
   "metadata": {},
   "outputs": [],
   "source": [
    "\n",
    "def load_segmented_dataset(folder_path):\n",
    "    \"\"\"\n",
    "    Loads and concatenates all segmented .npz files in a folder.\n",
    "    \"\"\"\n",
    "    X_list, y_list = [], []\n",
    "\n",
    "    for fname in os.listdir(folder_path):\n",
    "        if fname.endswith('_segmented.npz'):\n",
    "            npz_path = os.path.join(folder_path, fname)\n",
    "            try:\n",
    "                npz = np.load(npz_path)\n",
    "                X = npz['X']\n",
    "                y = npz['y']\n",
    "                X_list.append(X)\n",
    "                y_list.append(y)\n",
    "            except Exception as e:\n",
    "                print(f\"Could not load {fname}: {e}\")\n",
    "\n",
    "    X_total = np.concatenate(X_list, axis=0)\n",
    "    y_total = np.concatenate(y_list, axis=0)\n",
    "\n",
    "    return X_total, y_total"
   ]
  },
  {
   "cell_type": "markdown",
   "id": "38ce3125",
   "metadata": {},
   "source": [
    "############ Calling The Functions ############"
   ]
  },
  {
   "cell_type": "code",
   "execution_count": 10,
   "id": "a800f1f2",
   "metadata": {},
   "outputs": [
    {
     "data": {
      "text/plain": [
       "{'chb06_01.edf': [],\n",
       " 'chb06_02.edf': [],\n",
       " 'chb06_03.edf': [],\n",
       " 'chb06_04.edf': [],\n",
       " 'chb06_05.edf': [],\n",
       " 'chb06_06.edf': [],\n",
       " 'chb06_07.edf': [],\n",
       " 'chb06_08.edf': [],\n",
       " 'chb06_09.edf': [],\n",
       " 'chb06_10.edf': [],\n",
       " 'chb06_12.edf': [],\n",
       " 'chb06_13.edf': [],\n",
       " 'chb06_14.edf': [],\n",
       " 'chb06_15.edf': [],\n",
       " 'chb06_16.edf': [],\n",
       " 'chb06_17.edf': [],\n",
       " 'chb06_18.edf': [],\n",
       " 'chb06_24.edf': [],\n",
       " 'chb05_01.edf': [],\n",
       " 'chb05_02.edf': [],\n",
       " 'chb05_03.edf': [],\n",
       " 'chb05_04.edf': [],\n",
       " 'chb05_05.edf': [],\n",
       " 'chb05_06.edf': [(417, 532)],\n",
       " 'chb05_07.edf': [],\n",
       " 'chb05_08.edf': [],\n",
       " 'chb05_09.edf': [],\n",
       " 'chb05_10.edf': [],\n",
       " 'chb05_11.edf': [],\n",
       " 'chb05_12.edf': [],\n",
       " 'chb05_13.edf': [(1086, 1196)],\n",
       " 'chb05_14.edf': [],\n",
       " 'chb05_15.edf': [],\n",
       " 'chb05_16.edf': [(2317, 2413)],\n",
       " 'chb05_17.edf': [(2451, 2571)],\n",
       " 'chb05_18.edf': [],\n",
       " 'chb05_19.edf': [],\n",
       " 'chb05_20.edf': [],\n",
       " 'chb05_21.edf': [],\n",
       " 'chb05_22.edf': [(2348, 2465)],\n",
       " 'chb05_23.edf': [],\n",
       " 'chb05_24.edf': [],\n",
       " 'chb05_25.edf': [],\n",
       " 'chb05_26.edf': [],\n",
       " 'chb05_27.edf': [],\n",
       " 'chb05_28.edf': [],\n",
       " 'chb05_29.edf': [],\n",
       " 'chb05_30.edf': [],\n",
       " 'chb05_31.edf': [],\n",
       " 'chb05_32.edf': [],\n",
       " 'chb05_33.edf': [],\n",
       " 'chb05_34.edf': [],\n",
       " 'chb05_35.edf': [],\n",
       " 'chb05_36.edf': [],\n",
       " 'chb05_37.edf': [],\n",
       " 'chb05_38.edf': [],\n",
       " 'chb05_39.edf': [],\n",
       " 'chb02_01.edf': [],\n",
       " 'chb02_02.edf': [],\n",
       " 'chb02_03.edf': [],\n",
       " 'chb02_04.edf': [],\n",
       " 'chb02_05.edf': [],\n",
       " 'chb02_06.edf': [],\n",
       " 'chb02_07.edf': [],\n",
       " 'chb02_08.edf': [],\n",
       " 'chb02_09.edf': [],\n",
       " 'chb02_10.edf': [],\n",
       " 'chb02_11.edf': [],\n",
       " 'chb02_12.edf': [],\n",
       " 'chb02_13.edf': [],\n",
       " 'chb02_14.edf': [],\n",
       " 'chb02_15.edf': [],\n",
       " 'chb02_16.edf': [(130, 212)],\n",
       " 'chb02_16+.edf': [(2972, 3053)],\n",
       " 'chb02_17.edf': [],\n",
       " 'chb02_18.edf': [],\n",
       " 'chb02_19.edf': [(3369, 3378)],\n",
       " 'chb02_20.edf': [],\n",
       " 'chb02_21.edf': [],\n",
       " 'chb02_22.edf': [],\n",
       " 'chb02_23.edf': [],\n",
       " 'chb02_24.edf': [],\n",
       " 'chb02_25.edf': [],\n",
       " 'chb02_26.edf': [],\n",
       " 'chb02_27.edf': [],\n",
       " 'chb02_28.edf': [],\n",
       " 'chb02_29.edf': [],\n",
       " 'chb02_30.edf': [],\n",
       " 'chb02_31.edf': [],\n",
       " 'chb02_32.edf': [],\n",
       " 'chb02_33.edf': [],\n",
       " 'chb02_34.edf': [],\n",
       " 'chb02_35.edf': [],\n",
       " 'chb01_01.edf': [],\n",
       " 'chb01_02.edf': [],\n",
       " 'chb01_03.edf': [(2996, 3036)],\n",
       " 'chb01_04.edf': [(1467, 1494)],\n",
       " 'chb01_05.edf': [],\n",
       " 'chb01_06.edf': [],\n",
       " 'chb01_07.edf': [],\n",
       " 'chb01_08.edf': [],\n",
       " 'chb01_09.edf': [],\n",
       " 'chb01_10.edf': [],\n",
       " 'chb01_11.edf': [],\n",
       " 'chb01_12.edf': [],\n",
       " 'chb01_13.edf': [],\n",
       " 'chb01_14.edf': [],\n",
       " 'chb01_15.edf': [(1732, 1772)],\n",
       " 'chb01_16.edf': [(1015, 1066)],\n",
       " 'chb01_17.edf': [],\n",
       " 'chb01_18.edf': [(1720, 1810)],\n",
       " 'chb01_19.edf': [],\n",
       " 'chb01_20.edf': [],\n",
       " 'chb01_21.edf': [(327, 420)],\n",
       " 'chb01_22.edf': [],\n",
       " 'chb01_23.edf': [],\n",
       " 'chb01_24.edf': [],\n",
       " 'chb01_25.edf': [],\n",
       " 'chb01_26.edf': [(1862, 1963)],\n",
       " 'chb01_27.edf': [],\n",
       " 'chb01_29.edf': [],\n",
       " 'chb01_30.edf': [],\n",
       " 'chb01_31.edf': [],\n",
       " 'chb01_32.edf': [],\n",
       " 'chb01_33.edf': [],\n",
       " 'chb01_34.edf': [],\n",
       " 'chb01_36.edf': [],\n",
       " 'chb01_37.edf': [],\n",
       " 'chb01_38.edf': [],\n",
       " 'chb01_39.edf': [],\n",
       " 'chb01_40.edf': [],\n",
       " 'chb01_41.edf': [],\n",
       " 'chb01_42.edf': [],\n",
       " 'chb01_43.edf': [],\n",
       " 'chb01_46.edf': [],\n",
       " 'chb04_01.edf': [],\n",
       " 'chb04_02.edf': [],\n",
       " 'chb04_03.edf': [],\n",
       " 'chb04_04.edf': [],\n",
       " 'chb04_05.edf': [(7804, 7853)],\n",
       " 'chb04_06.edf': [],\n",
       " 'chb04_07.edf': [],\n",
       " 'chb04_08.edf': [(6446, 6557)],\n",
       " 'chb04_09.edf': [],\n",
       " 'chb04_10.edf': [],\n",
       " 'chb04_11.edf': [],\n",
       " 'chb04_12.edf': [],\n",
       " 'chb04_13.edf': [],\n",
       " 'chb04_14.edf': [],\n",
       " 'chb04_15.edf': [],\n",
       " 'chb04_16.edf': [],\n",
       " 'chb04_17.edf': [],\n",
       " 'chb04_18.edf': [],\n",
       " 'chb04_19.edf': [],\n",
       " 'chb04_21.edf': [],\n",
       " 'chb04_22.edf': [],\n",
       " 'chb04_23.edf': [],\n",
       " 'chb04_24.edf': [],\n",
       " 'chb04_25.edf': [],\n",
       " 'chb04_26.edf': [],\n",
       " 'chb04_27.edf': [],\n",
       " 'chb04_28.edf': [],\n",
       " 'chb04_29.edf': [],\n",
       " 'chb04_30.edf': [],\n",
       " 'chb04_31.edf': [],\n",
       " 'chb04_32.edf': [],\n",
       " 'chb04_33.edf': [],\n",
       " 'chb04_34.edf': [],\n",
       " 'chb04_35.edf': [],\n",
       " 'chb04_36.edf': [],\n",
       " 'chb04_37.edf': [],\n",
       " 'chb04_38.edf': [],\n",
       " 'chb04_39.edf': [],\n",
       " 'chb04_40.edf': [],\n",
       " 'chb04_41.edf': [],\n",
       " 'chb04_42.edf': [],\n",
       " 'chb04_43.edf': []}"
      ]
     },
     "execution_count": 10,
     "metadata": {},
     "output_type": "execute_result"
    }
   ],
   "source": [
    "extract_seizure_events_from_txt(\"/Users/folasewaabdulsalam/Seizure_Onset_Prediction/data\")"
   ]
  },
  {
   "cell_type": "code",
   "execution_count": 11,
   "id": "5dbb3b62",
   "metadata": {},
   "outputs": [
    {
     "name": "stdout",
     "output_type": "stream",
     "text": [
      "NOTE: pick_channels() is a legacy function. New code should use inst.pick(...).\n"
     ]
    },
    {
     "name": "stderr",
     "output_type": "stream",
     "text": [
      "/var/folders/2r/22chk4fn06j2bd_2pbrv5vcm0000gn/T/ipykernel_28920/2455710421.py:6: RuntimeWarning: Channel names are not unique, found duplicates for: {'T8-P8'}. Applying running numbers for duplicates.\n",
      "  raw = mne.io.read_raw_edf(edf_path, preload=True, verbose=False)\n",
      "/var/folders/2r/22chk4fn06j2bd_2pbrv5vcm0000gn/T/ipykernel_28920/2455710421.py:6: RuntimeWarning: Channel names are not unique, found duplicates for: {'T8-P8'}. Applying running numbers for duplicates.\n",
      "  raw = mne.io.read_raw_edf(edf_path, preload=True, verbose=False)\n"
     ]
    },
    {
     "name": "stdout",
     "output_type": "stream",
     "text": [
      "Loaded chb01_43.edf with 0 seizure intervals\n",
      "NOTE: pick_channels() is a legacy function. New code should use inst.pick(...).\n",
      "Loaded chb02_05.edf with 0 seizure intervals\n",
      "NOTE: pick_channels() is a legacy function. New code should use inst.pick(...).\n",
      "Loaded chb02_14.edf with 0 seizure intervals\n"
     ]
    },
    {
     "name": "stderr",
     "output_type": "stream",
     "text": [
      "/var/folders/2r/22chk4fn06j2bd_2pbrv5vcm0000gn/T/ipykernel_28920/2455710421.py:6: RuntimeWarning: Channel names are not unique, found duplicates for: {'T8-P8'}. Applying running numbers for duplicates.\n",
      "  raw = mne.io.read_raw_edf(edf_path, preload=True, verbose=False)\n",
      "/var/folders/2r/22chk4fn06j2bd_2pbrv5vcm0000gn/T/ipykernel_28920/2455710421.py:6: RuntimeWarning: Channel names are not unique, found duplicates for: {'T8-P8'}. Applying running numbers for duplicates.\n",
      "  raw = mne.io.read_raw_edf(edf_path, preload=True, verbose=False)\n"
     ]
    },
    {
     "name": "stdout",
     "output_type": "stream",
     "text": [
      "NOTE: pick_channels() is a legacy function. New code should use inst.pick(...).\n",
      "Loaded chb05_22.edf with 1 seizure intervals\n"
     ]
    },
    {
     "name": "stderr",
     "output_type": "stream",
     "text": [
      "/var/folders/2r/22chk4fn06j2bd_2pbrv5vcm0000gn/T/ipykernel_28920/2455710421.py:6: RuntimeWarning: Channel names are not unique, found duplicates for: {'T8-P8'}. Applying running numbers for duplicates.\n",
      "  raw = mne.io.read_raw_edf(edf_path, preload=True, verbose=False)\n"
     ]
    },
    {
     "name": "stdout",
     "output_type": "stream",
     "text": [
      "NOTE: pick_channels() is a legacy function. New code should use inst.pick(...).\n",
      "Loaded chb04_05.edf with 1 seizure intervals\n",
      "NOTE: pick_channels() is a legacy function. New code should use inst.pick(...).\n",
      "Loaded chb01_21.edf with 1 seizure intervals\n"
     ]
    },
    {
     "name": "stderr",
     "output_type": "stream",
     "text": [
      "/var/folders/2r/22chk4fn06j2bd_2pbrv5vcm0000gn/T/ipykernel_28920/2455710421.py:6: RuntimeWarning: Channel names are not unique, found duplicates for: {'T8-P8'}. Applying running numbers for duplicates.\n",
      "  raw = mne.io.read_raw_edf(edf_path, preload=True, verbose=False)\n",
      "/var/folders/2r/22chk4fn06j2bd_2pbrv5vcm0000gn/T/ipykernel_28920/2455710421.py:6: RuntimeWarning: Channel names are not unique, found duplicates for: {'T8-P8'}. Applying running numbers for duplicates.\n",
      "  raw = mne.io.read_raw_edf(edf_path, preload=True, verbose=False)\n"
     ]
    },
    {
     "name": "stdout",
     "output_type": "stream",
     "text": [
      "NOTE: pick_channels() is a legacy function. New code should use inst.pick(...).\n",
      "Loaded chb06_01.edf with 0 seizure intervals\n",
      "NOTE: pick_channels() is a legacy function. New code should use inst.pick(...).\n",
      "Loaded chb01_26.edf with 1 seizure intervals\n"
     ]
    },
    {
     "name": "stderr",
     "output_type": "stream",
     "text": [
      "/var/folders/2r/22chk4fn06j2bd_2pbrv5vcm0000gn/T/ipykernel_28920/2455710421.py:6: RuntimeWarning: Channel names are not unique, found duplicates for: {'T8-P8'}. Applying running numbers for duplicates.\n",
      "  raw = mne.io.read_raw_edf(edf_path, preload=True, verbose=False)\n",
      "/var/folders/2r/22chk4fn06j2bd_2pbrv5vcm0000gn/T/ipykernel_28920/2455710421.py:6: RuntimeWarning: Channel names are not unique, found duplicates for: {'T8-P8'}. Applying running numbers for duplicates.\n",
      "  raw = mne.io.read_raw_edf(edf_path, preload=True, verbose=False)\n"
     ]
    },
    {
     "name": "stdout",
     "output_type": "stream",
     "text": [
      "NOTE: pick_channels() is a legacy function. New code should use inst.pick(...).\n",
      "Loaded chb04_28.edf with 0 seizure intervals\n",
      "NOTE: pick_channels() is a legacy function. New code should use inst.pick(...).\n",
      "Loaded chb01_18.edf with 1 seizure intervals\n"
     ]
    },
    {
     "name": "stderr",
     "output_type": "stream",
     "text": [
      "/var/folders/2r/22chk4fn06j2bd_2pbrv5vcm0000gn/T/ipykernel_28920/2455710421.py:6: RuntimeWarning: Channel names are not unique, found duplicates for: {'T8-P8'}. Applying running numbers for duplicates.\n",
      "  raw = mne.io.read_raw_edf(edf_path, preload=True, verbose=False)\n",
      "/var/folders/2r/22chk4fn06j2bd_2pbrv5vcm0000gn/T/ipykernel_28920/2455710421.py:6: RuntimeWarning: Channel names are not unique, found duplicates for: {'T8-P8'}. Applying running numbers for duplicates.\n",
      "  raw = mne.io.read_raw_edf(edf_path, preload=True, verbose=False)\n"
     ]
    },
    {
     "name": "stdout",
     "output_type": "stream",
     "text": [
      "NOTE: pick_channels() is a legacy function. New code should use inst.pick(...).\n",
      "Loaded chb06_09.edf with 0 seizure intervals\n",
      "NOTE: pick_channels() is a legacy function. New code should use inst.pick(...).\n",
      "Loaded chb01_15.edf with 1 seizure intervals\n",
      "NOTE: pick_channels() is a legacy function. New code should use inst.pick(...).\n"
     ]
    },
    {
     "name": "stderr",
     "output_type": "stream",
     "text": [
      "/var/folders/2r/22chk4fn06j2bd_2pbrv5vcm0000gn/T/ipykernel_28920/2455710421.py:6: RuntimeWarning: Channel names are not unique, found duplicates for: {'T8-P8'}. Applying running numbers for duplicates.\n",
      "  raw = mne.io.read_raw_edf(edf_path, preload=True, verbose=False)\n",
      "/var/folders/2r/22chk4fn06j2bd_2pbrv5vcm0000gn/T/ipykernel_28920/2455710421.py:6: RuntimeWarning: Channel names are not unique, found duplicates for: {'T8-P8'}. Applying running numbers for duplicates.\n",
      "  raw = mne.io.read_raw_edf(edf_path, preload=True, verbose=False)\n"
     ]
    },
    {
     "name": "stdout",
     "output_type": "stream",
     "text": [
      "Loaded chb01_03.edf with 1 seizure intervals\n",
      "NOTE: pick_channels() is a legacy function. New code should use inst.pick(...).\n",
      "Loaded chb01_16.edf with 1 seizure intervals\n"
     ]
    },
    {
     "name": "stderr",
     "output_type": "stream",
     "text": [
      "/var/folders/2r/22chk4fn06j2bd_2pbrv5vcm0000gn/T/ipykernel_28920/2455710421.py:6: RuntimeWarning: Channel names are not unique, found duplicates for: {'T8-P8'}. Applying running numbers for duplicates.\n",
      "  raw = mne.io.read_raw_edf(edf_path, preload=True, verbose=False)\n",
      "/var/folders/2r/22chk4fn06j2bd_2pbrv5vcm0000gn/T/ipykernel_28920/2455710421.py:6: RuntimeWarning: Channel names are not unique, found duplicates for: {'T8-P8'}. Applying running numbers for duplicates.\n",
      "  raw = mne.io.read_raw_edf(edf_path, preload=True, verbose=False)\n"
     ]
    },
    {
     "name": "stdout",
     "output_type": "stream",
     "text": [
      "NOTE: pick_channels() is a legacy function. New code should use inst.pick(...).\n",
      "Loaded chb06_18.edf with 0 seizure intervals\n"
     ]
    },
    {
     "name": "stderr",
     "output_type": "stream",
     "text": [
      "/var/folders/2r/22chk4fn06j2bd_2pbrv5vcm0000gn/T/ipykernel_28920/2455710421.py:6: RuntimeWarning: Channel names are not unique, found duplicates for: {'T8-P8'}. Applying running numbers for duplicates.\n",
      "  raw = mne.io.read_raw_edf(edf_path, preload=True, verbose=False)\n"
     ]
    },
    {
     "name": "stdout",
     "output_type": "stream",
     "text": [
      "NOTE: pick_channels() is a legacy function. New code should use inst.pick(...).\n",
      "Loaded chb06_24.edf with 0 seizure intervals\n",
      "NOTE: pick_channels() is a legacy function. New code should use inst.pick(...).\n",
      "Loaded chb01_04.edf with 1 seizure intervals\n"
     ]
    },
    {
     "name": "stderr",
     "output_type": "stream",
     "text": [
      "/var/folders/2r/22chk4fn06j2bd_2pbrv5vcm0000gn/T/ipykernel_28920/2455710421.py:6: RuntimeWarning: Channel names are not unique, found duplicates for: {'T8-P8'}. Applying running numbers for duplicates.\n",
      "  raw = mne.io.read_raw_edf(edf_path, preload=True, verbose=False)\n",
      "/var/folders/2r/22chk4fn06j2bd_2pbrv5vcm0000gn/T/ipykernel_28920/2455710421.py:6: RuntimeWarning: Channel names are not unique, found duplicates for: {'T8-P8'}. Applying running numbers for duplicates.\n",
      "  raw = mne.io.read_raw_edf(edf_path, preload=True, verbose=False)\n"
     ]
    },
    {
     "name": "stdout",
     "output_type": "stream",
     "text": [
      "NOTE: pick_channels() is a legacy function. New code should use inst.pick(...).\n",
      "Loaded chb04_08.edf with 1 seizure intervals\n",
      "NOTE: pick_channels() is a legacy function. New code should use inst.pick(...).\n",
      "Loaded chb05_13.edf with 1 seizure intervals\n",
      "NOTE: pick_channels() is a legacy function. New code should use inst.pick(...).\n"
     ]
    },
    {
     "name": "stderr",
     "output_type": "stream",
     "text": [
      "/var/folders/2r/22chk4fn06j2bd_2pbrv5vcm0000gn/T/ipykernel_28920/2455710421.py:6: RuntimeWarning: Channel names are not unique, found duplicates for: {'T8-P8'}. Applying running numbers for duplicates.\n",
      "  raw = mne.io.read_raw_edf(edf_path, preload=True, verbose=False)\n",
      "/var/folders/2r/22chk4fn06j2bd_2pbrv5vcm0000gn/T/ipykernel_28920/2455710421.py:6: RuntimeWarning: Channel names are not unique, found duplicates for: {'T8-P8'}. Applying running numbers for duplicates.\n",
      "  raw = mne.io.read_raw_edf(edf_path, preload=True, verbose=False)\n"
     ]
    },
    {
     "name": "stdout",
     "output_type": "stream",
     "text": [
      "Loaded chb05_06.edf with 1 seizure intervals\n"
     ]
    },
    {
     "name": "stderr",
     "output_type": "stream",
     "text": [
      "/var/folders/2r/22chk4fn06j2bd_2pbrv5vcm0000gn/T/ipykernel_28920/2455710421.py:6: RuntimeWarning: Channel names are not unique, found duplicates for: {'T8-P8'}. Applying running numbers for duplicates.\n",
      "  raw = mne.io.read_raw_edf(edf_path, preload=True, verbose=False)\n"
     ]
    },
    {
     "name": "stdout",
     "output_type": "stream",
     "text": [
      "NOTE: pick_channels() is a legacy function. New code should use inst.pick(...).\n",
      "Loaded chb02_19.edf with 1 seizure intervals\n",
      "NOTE: pick_channels() is a legacy function. New code should use inst.pick(...).\n",
      "Loaded chb02_16+.edf with 1 seizure intervals\n"
     ]
    },
    {
     "name": "stderr",
     "output_type": "stream",
     "text": [
      "/var/folders/2r/22chk4fn06j2bd_2pbrv5vcm0000gn/T/ipykernel_28920/2455710421.py:6: RuntimeWarning: Channel names are not unique, found duplicates for: {'T8-P8'}. Applying running numbers for duplicates.\n",
      "  raw = mne.io.read_raw_edf(edf_path, preload=True, verbose=False)\n",
      "/var/folders/2r/22chk4fn06j2bd_2pbrv5vcm0000gn/T/ipykernel_28920/2455710421.py:6: RuntimeWarning: Channel names are not unique, found duplicates for: {'T8-P8'}. Applying running numbers for duplicates.\n",
      "  raw = mne.io.read_raw_edf(edf_path, preload=True, verbose=False)\n"
     ]
    },
    {
     "name": "stdout",
     "output_type": "stream",
     "text": [
      "NOTE: pick_channels() is a legacy function. New code should use inst.pick(...).\n",
      "Loaded chb02_35.edf with 0 seizure intervals\n",
      "NOTE: pick_channels() is a legacy function. New code should use inst.pick(...).\n",
      "Loaded chb05_16.edf with 1 seizure intervals\n"
     ]
    },
    {
     "name": "stderr",
     "output_type": "stream",
     "text": [
      "/var/folders/2r/22chk4fn06j2bd_2pbrv5vcm0000gn/T/ipykernel_28920/2455710421.py:6: RuntimeWarning: Channel names are not unique, found duplicates for: {'T8-P8'}. Applying running numbers for duplicates.\n",
      "  raw = mne.io.read_raw_edf(edf_path, preload=True, verbose=False)\n",
      "/var/folders/2r/22chk4fn06j2bd_2pbrv5vcm0000gn/T/ipykernel_28920/2455710421.py:6: RuntimeWarning: Channel names are not unique, found duplicates for: {'T8-P8'}. Applying running numbers for duplicates.\n",
      "  raw = mne.io.read_raw_edf(edf_path, preload=True, verbose=False)\n"
     ]
    },
    {
     "name": "stdout",
     "output_type": "stream",
     "text": [
      "NOTE: pick_channels() is a legacy function. New code should use inst.pick(...).\n",
      "Loaded chb05_17.edf with 1 seizure intervals\n"
     ]
    },
    {
     "data": {
      "text/plain": [
       "{'chb01_43.edf': {'raw': <RawEDF | chb01_43.edf, 22 x 921600 (3600.0 s), ~154.7 MiB, data loaded>,\n",
       "  'seizure_samples': []},\n",
       " 'chb02_05.edf': {'raw': <RawEDF | chb02_05.edf, 22 x 921600 (3600.0 s), ~154.7 MiB, data loaded>,\n",
       "  'seizure_samples': []},\n",
       " 'chb02_14.edf': {'raw': <RawEDF | chb02_14.edf, 22 x 921600 (3600.0 s), ~154.7 MiB, data loaded>,\n",
       "  'seizure_samples': []},\n",
       " 'chb05_22.edf': {'raw': <RawEDF | chb05_22.edf, 22 x 921600 (3600.0 s), ~154.7 MiB, data loaded>,\n",
       "  'seizure_samples': [(601088, 631040)]},\n",
       " 'chb04_05.edf': {'raw': <RawEDF | chb04_05.edf, 22 x 2441216 (9536.0 s), ~409.8 MiB, data loaded>,\n",
       "  'seizure_samples': [(1997824, 2010368)]},\n",
       " 'chb01_21.edf': {'raw': <RawEDF | chb01_21.edf, 22 x 921600 (3600.0 s), ~154.7 MiB, data loaded>,\n",
       "  'seizure_samples': [(83712, 107520)]},\n",
       " 'chb06_01.edf': {'raw': <RawEDF | chb06_01.edf, 22 x 3693312 (14427.0 s), ~619.9 MiB, data loaded>,\n",
       "  'seizure_samples': []},\n",
       " 'chb01_26.edf': {'raw': <RawEDF | chb01_26.edf, 22 x 595200 (2325.0 s), ~99.9 MiB, data loaded>,\n",
       "  'seizure_samples': [(476672, 502528)]},\n",
       " 'chb04_28.edf': {'raw': <RawEDF | chb04_28.edf, 23 x 3692288 (14423.0 s), ~647.9 MiB, data loaded>,\n",
       "  'seizure_samples': []},\n",
       " 'chb01_18.edf': {'raw': <RawEDF | chb01_18.edf, 22 x 921600 (3600.0 s), ~154.7 MiB, data loaded>,\n",
       "  'seizure_samples': [(440320, 463360)]},\n",
       " 'chb06_09.edf': {'raw': <RawEDF | chb06_09.edf, 22 x 3686400 (14400.0 s), ~618.8 MiB, data loaded>,\n",
       "  'seizure_samples': []},\n",
       " 'chb01_15.edf': {'raw': <RawEDF | chb01_15.edf, 22 x 921600 (3600.0 s), ~154.7 MiB, data loaded>,\n",
       "  'seizure_samples': [(443392, 453632)]},\n",
       " 'chb01_03.edf': {'raw': <RawEDF | chb01_03.edf, 22 x 921600 (3600.0 s), ~154.7 MiB, data loaded>,\n",
       "  'seizure_samples': [(766976, 777216)]},\n",
       " 'chb01_16.edf': {'raw': <RawEDF | chb01_16.edf, 22 x 921600 (3600.0 s), ~154.7 MiB, data loaded>,\n",
       "  'seizure_samples': [(259840, 272896)]},\n",
       " 'chb06_18.edf': {'raw': <RawEDF | chb06_18.edf, 22 x 2029568 (7928.0 s), ~340.7 MiB, data loaded>,\n",
       "  'seizure_samples': []},\n",
       " 'chb06_24.edf': {'raw': <RawEDF | chb06_24.edf, 22 x 3686400 (14400.0 s), ~618.8 MiB, data loaded>,\n",
       "  'seizure_samples': []},\n",
       " 'chb01_04.edf': {'raw': <RawEDF | chb01_04.edf, 22 x 921600 (3600.0 s), ~154.7 MiB, data loaded>,\n",
       "  'seizure_samples': [(375552, 382464)]},\n",
       " 'chb04_08.edf': {'raw': <RawEDF | chb04_08.edf, 23 x 3686400 (14400.0 s), ~646.9 MiB, data loaded>,\n",
       "  'seizure_samples': [(1650176, 1678592)]},\n",
       " 'chb05_13.edf': {'raw': <RawEDF | chb05_13.edf, 22 x 921600 (3600.0 s), ~154.7 MiB, data loaded>,\n",
       "  'seizure_samples': [(278016, 306176)]},\n",
       " 'chb05_06.edf': {'raw': <RawEDF | chb05_06.edf, 22 x 921600 (3600.0 s), ~154.7 MiB, data loaded>,\n",
       "  'seizure_samples': [(106752, 136192)]},\n",
       " 'chb02_19.edf': {'raw': <RawEDF | chb02_19.edf, 22 x 921600 (3600.0 s), ~154.7 MiB, data loaded>,\n",
       "  'seizure_samples': [(862464, 864768)]},\n",
       " 'chb02_16+.edf': {'raw': <RawEDF | chb02_16+.edf, 22 x 921600 (3600.0 s), ~154.7 MiB, data loaded>,\n",
       "  'seizure_samples': [(760832, 781568)]},\n",
       " 'chb02_35.edf': {'raw': <RawEDF | chb02_35.edf, 22 x 921600 (3600.0 s), ~154.7 MiB, data loaded>,\n",
       "  'seizure_samples': []},\n",
       " 'chb05_16.edf': {'raw': <RawEDF | chb05_16.edf, 22 x 921600 (3600.0 s), ~154.7 MiB, data loaded>,\n",
       "  'seizure_samples': [(593152, 617728)]},\n",
       " 'chb05_17.edf': {'raw': <RawEDF | chb05_17.edf, 22 x 921600 (3600.0 s), ~154.7 MiB, data loaded>,\n",
       "  'seizure_samples': [(627456, 658176)]}}"
      ]
     },
     "execution_count": 11,
     "metadata": {},
     "output_type": "execute_result"
    }
   ],
   "source": [
    "batch_load_edf_with_seizures(\"/Users/folasewaabdulsalam/Seizure_Onset_Prediction/data\")"
   ]
  },
  {
   "cell_type": "code",
   "execution_count": 12,
   "id": "aa56b9f1",
   "metadata": {},
   "outputs": [
    {
     "name": "stdout",
     "output_type": "stream",
     "text": [
      "NOTE: pick_channels() is a legacy function. New code should use inst.pick(...).\n"
     ]
    },
    {
     "name": "stderr",
     "output_type": "stream",
     "text": [
      "/var/folders/2r/22chk4fn06j2bd_2pbrv5vcm0000gn/T/ipykernel_28920/2455710421.py:6: RuntimeWarning: Channel names are not unique, found duplicates for: {'T8-P8'}. Applying running numbers for duplicates.\n",
      "  raw = mne.io.read_raw_edf(edf_path, preload=True, verbose=False)\n"
     ]
    },
    {
     "name": "stdout",
     "output_type": "stream",
     "text": [
      "NOTE: pick_channels() is a legacy function. New code should use inst.pick(...).\n",
      "Saved to: /Users/folasewaabdulsalam/Seizure_Onset_Prediction/data/preprocessed/chb01_43_preprocessed.npz\n",
      "\n",
      "NOTE: pick_channels() is a legacy function. New code should use inst.pick(...).\n",
      "NOTE: pick_channels() is a legacy function. New code should use inst.pick(...).\n"
     ]
    },
    {
     "name": "stderr",
     "output_type": "stream",
     "text": [
      "/var/folders/2r/22chk4fn06j2bd_2pbrv5vcm0000gn/T/ipykernel_28920/2455710421.py:6: RuntimeWarning: Channel names are not unique, found duplicates for: {'T8-P8'}. Applying running numbers for duplicates.\n",
      "  raw = mne.io.read_raw_edf(edf_path, preload=True, verbose=False)\n"
     ]
    },
    {
     "name": "stdout",
     "output_type": "stream",
     "text": [
      "Saved to: /Users/folasewaabdulsalam/Seizure_Onset_Prediction/data/preprocessed/chb02_05_preprocessed.npz\n",
      "\n",
      "NOTE: pick_channels() is a legacy function. New code should use inst.pick(...).\n",
      "NOTE: pick_channels() is a legacy function. New code should use inst.pick(...).\n"
     ]
    },
    {
     "name": "stderr",
     "output_type": "stream",
     "text": [
      "/var/folders/2r/22chk4fn06j2bd_2pbrv5vcm0000gn/T/ipykernel_28920/2455710421.py:6: RuntimeWarning: Channel names are not unique, found duplicates for: {'T8-P8'}. Applying running numbers for duplicates.\n",
      "  raw = mne.io.read_raw_edf(edf_path, preload=True, verbose=False)\n"
     ]
    },
    {
     "name": "stdout",
     "output_type": "stream",
     "text": [
      "Saved to: /Users/folasewaabdulsalam/Seizure_Onset_Prediction/data/preprocessed/chb02_14_preprocessed.npz\n",
      "\n",
      "NOTE: pick_channels() is a legacy function. New code should use inst.pick(...).\n",
      "NOTE: pick_channels() is a legacy function. New code should use inst.pick(...).\n"
     ]
    },
    {
     "name": "stderr",
     "output_type": "stream",
     "text": [
      "/var/folders/2r/22chk4fn06j2bd_2pbrv5vcm0000gn/T/ipykernel_28920/2455710421.py:6: RuntimeWarning: Channel names are not unique, found duplicates for: {'T8-P8'}. Applying running numbers for duplicates.\n",
      "  raw = mne.io.read_raw_edf(edf_path, preload=True, verbose=False)\n"
     ]
    },
    {
     "name": "stdout",
     "output_type": "stream",
     "text": [
      "Saved to: /Users/folasewaabdulsalam/Seizure_Onset_Prediction/data/preprocessed/chb05_22_preprocessed.npz\n",
      "\n"
     ]
    },
    {
     "name": "stderr",
     "output_type": "stream",
     "text": [
      "/var/folders/2r/22chk4fn06j2bd_2pbrv5vcm0000gn/T/ipykernel_28920/2455710421.py:6: RuntimeWarning: Channel names are not unique, found duplicates for: {'T8-P8'}. Applying running numbers for duplicates.\n",
      "  raw = mne.io.read_raw_edf(edf_path, preload=True, verbose=False)\n"
     ]
    },
    {
     "name": "stdout",
     "output_type": "stream",
     "text": [
      "NOTE: pick_channels() is a legacy function. New code should use inst.pick(...).\n",
      "NOTE: pick_channels() is a legacy function. New code should use inst.pick(...).\n",
      "Saved to: /Users/folasewaabdulsalam/Seizure_Onset_Prediction/data/preprocessed/chb04_05_preprocessed.npz\n",
      "\n",
      "NOTE: pick_channels() is a legacy function. New code should use inst.pick(...).\n",
      "NOTE: pick_channels() is a legacy function. New code should use inst.pick(...).\n"
     ]
    },
    {
     "name": "stderr",
     "output_type": "stream",
     "text": [
      "/var/folders/2r/22chk4fn06j2bd_2pbrv5vcm0000gn/T/ipykernel_28920/2455710421.py:6: RuntimeWarning: Channel names are not unique, found duplicates for: {'T8-P8'}. Applying running numbers for duplicates.\n",
      "  raw = mne.io.read_raw_edf(edf_path, preload=True, verbose=False)\n"
     ]
    },
    {
     "name": "stdout",
     "output_type": "stream",
     "text": [
      "Saved to: /Users/folasewaabdulsalam/Seizure_Onset_Prediction/data/preprocessed/chb01_21_preprocessed.npz\n",
      "\n"
     ]
    },
    {
     "name": "stderr",
     "output_type": "stream",
     "text": [
      "/var/folders/2r/22chk4fn06j2bd_2pbrv5vcm0000gn/T/ipykernel_28920/2455710421.py:6: RuntimeWarning: Channel names are not unique, found duplicates for: {'T8-P8'}. Applying running numbers for duplicates.\n",
      "  raw = mne.io.read_raw_edf(edf_path, preload=True, verbose=False)\n"
     ]
    },
    {
     "name": "stdout",
     "output_type": "stream",
     "text": [
      "NOTE: pick_channels() is a legacy function. New code should use inst.pick(...).\n",
      "NOTE: pick_channels() is a legacy function. New code should use inst.pick(...).\n",
      "Saved to: /Users/folasewaabdulsalam/Seizure_Onset_Prediction/data/preprocessed/chb06_01_preprocessed.npz\n",
      "\n",
      "NOTE: pick_channels() is a legacy function. New code should use inst.pick(...).\n",
      "NOTE: pick_channels() is a legacy function. New code should use inst.pick(...).\n"
     ]
    },
    {
     "name": "stderr",
     "output_type": "stream",
     "text": [
      "/var/folders/2r/22chk4fn06j2bd_2pbrv5vcm0000gn/T/ipykernel_28920/2455710421.py:6: RuntimeWarning: Channel names are not unique, found duplicates for: {'T8-P8'}. Applying running numbers for duplicates.\n",
      "  raw = mne.io.read_raw_edf(edf_path, preload=True, verbose=False)\n"
     ]
    },
    {
     "name": "stdout",
     "output_type": "stream",
     "text": [
      "Saved to: /Users/folasewaabdulsalam/Seizure_Onset_Prediction/data/preprocessed/chb03_36_preprocessed.npz\n",
      "\n",
      "NOTE: pick_channels() is a legacy function. New code should use inst.pick(...).\n",
      "NOTE: pick_channels() is a legacy function. New code should use inst.pick(...).\n"
     ]
    },
    {
     "name": "stderr",
     "output_type": "stream",
     "text": [
      "/var/folders/2r/22chk4fn06j2bd_2pbrv5vcm0000gn/T/ipykernel_28920/2455710421.py:6: RuntimeWarning: Channel names are not unique, found duplicates for: {'T8-P8'}. Applying running numbers for duplicates.\n",
      "  raw = mne.io.read_raw_edf(edf_path, preload=True, verbose=False)\n"
     ]
    },
    {
     "name": "stdout",
     "output_type": "stream",
     "text": [
      "Saved to: /Users/folasewaabdulsalam/Seizure_Onset_Prediction/data/preprocessed/chb01_26_preprocessed.npz\n",
      "\n",
      "NOTE: pick_channels() is a legacy function. New code should use inst.pick(...).\n",
      "NOTE: pick_channels() is a legacy function. New code should use inst.pick(...).\n"
     ]
    },
    {
     "name": "stderr",
     "output_type": "stream",
     "text": [
      "/var/folders/2r/22chk4fn06j2bd_2pbrv5vcm0000gn/T/ipykernel_28920/2455710421.py:6: RuntimeWarning: Channel names are not unique, found duplicates for: {'T8-P8'}. Applying running numbers for duplicates.\n",
      "  raw = mne.io.read_raw_edf(edf_path, preload=True, verbose=False)\n"
     ]
    },
    {
     "name": "stdout",
     "output_type": "stream",
     "text": [
      "Saved to: /Users/folasewaabdulsalam/Seizure_Onset_Prediction/data/preprocessed/chb03_35_preprocessed.npz\n",
      "\n"
     ]
    },
    {
     "name": "stderr",
     "output_type": "stream",
     "text": [
      "/var/folders/2r/22chk4fn06j2bd_2pbrv5vcm0000gn/T/ipykernel_28920/2455710421.py:6: RuntimeWarning: Channel names are not unique, found duplicates for: {'T8-P8'}. Applying running numbers for duplicates.\n",
      "  raw = mne.io.read_raw_edf(edf_path, preload=True, verbose=False)\n"
     ]
    },
    {
     "name": "stdout",
     "output_type": "stream",
     "text": [
      "NOTE: pick_channels() is a legacy function. New code should use inst.pick(...).\n",
      "NOTE: pick_channels() is a legacy function. New code should use inst.pick(...).\n",
      "Saved to: /Users/folasewaabdulsalam/Seizure_Onset_Prediction/data/preprocessed/chb04_28_preprocessed.npz\n",
      "\n",
      "NOTE: pick_channels() is a legacy function. New code should use inst.pick(...).\n",
      "NOTE: pick_channels() is a legacy function. New code should use inst.pick(...).\n"
     ]
    },
    {
     "name": "stderr",
     "output_type": "stream",
     "text": [
      "/var/folders/2r/22chk4fn06j2bd_2pbrv5vcm0000gn/T/ipykernel_28920/2455710421.py:6: RuntimeWarning: Channel names are not unique, found duplicates for: {'T8-P8'}. Applying running numbers for duplicates.\n",
      "  raw = mne.io.read_raw_edf(edf_path, preload=True, verbose=False)\n"
     ]
    },
    {
     "name": "stdout",
     "output_type": "stream",
     "text": [
      "Saved to: /Users/folasewaabdulsalam/Seizure_Onset_Prediction/data/preprocessed/chb01_18_preprocessed.npz\n",
      "\n",
      "NOTE: pick_channels() is a legacy function. New code should use inst.pick(...).\n",
      "NOTE: pick_channels() is a legacy function. New code should use inst.pick(...).\n"
     ]
    },
    {
     "name": "stderr",
     "output_type": "stream",
     "text": [
      "/var/folders/2r/22chk4fn06j2bd_2pbrv5vcm0000gn/T/ipykernel_28920/2455710421.py:6: RuntimeWarning: Channel names are not unique, found duplicates for: {'T8-P8'}. Applying running numbers for duplicates.\n",
      "  raw = mne.io.read_raw_edf(edf_path, preload=True, verbose=False)\n"
     ]
    },
    {
     "name": "stdout",
     "output_type": "stream",
     "text": [
      "Saved to: /Users/folasewaabdulsalam/Seizure_Onset_Prediction/data/preprocessed/chb03_34_preprocessed.npz\n",
      "\n"
     ]
    },
    {
     "name": "stderr",
     "output_type": "stream",
     "text": [
      "/var/folders/2r/22chk4fn06j2bd_2pbrv5vcm0000gn/T/ipykernel_28920/2455710421.py:6: RuntimeWarning: Channel names are not unique, found duplicates for: {'T8-P8'}. Applying running numbers for duplicates.\n",
      "  raw = mne.io.read_raw_edf(edf_path, preload=True, verbose=False)\n"
     ]
    },
    {
     "name": "stdout",
     "output_type": "stream",
     "text": [
      "NOTE: pick_channels() is a legacy function. New code should use inst.pick(...).\n",
      "NOTE: pick_channels() is a legacy function. New code should use inst.pick(...).\n",
      "Saved to: /Users/folasewaabdulsalam/Seizure_Onset_Prediction/data/preprocessed/chb06_09_preprocessed.npz\n",
      "\n",
      "NOTE: pick_channels() is a legacy function. New code should use inst.pick(...).\n",
      "NOTE: pick_channels() is a legacy function. New code should use inst.pick(...).\n"
     ]
    },
    {
     "name": "stderr",
     "output_type": "stream",
     "text": [
      "/var/folders/2r/22chk4fn06j2bd_2pbrv5vcm0000gn/T/ipykernel_28920/2455710421.py:6: RuntimeWarning: Channel names are not unique, found duplicates for: {'T8-P8'}. Applying running numbers for duplicates.\n",
      "  raw = mne.io.read_raw_edf(edf_path, preload=True, verbose=False)\n"
     ]
    },
    {
     "name": "stdout",
     "output_type": "stream",
     "text": [
      "Saved to: /Users/folasewaabdulsalam/Seizure_Onset_Prediction/data/preprocessed/chb01_15_preprocessed.npz\n",
      "\n",
      "NOTE: pick_channels() is a legacy function. New code should use inst.pick(...).\n",
      "NOTE: pick_channels() is a legacy function. New code should use inst.pick(...).\n"
     ]
    },
    {
     "name": "stderr",
     "output_type": "stream",
     "text": [
      "/var/folders/2r/22chk4fn06j2bd_2pbrv5vcm0000gn/T/ipykernel_28920/2455710421.py:6: RuntimeWarning: Channel names are not unique, found duplicates for: {'T8-P8'}. Applying running numbers for duplicates.\n",
      "  raw = mne.io.read_raw_edf(edf_path, preload=True, verbose=False)\n"
     ]
    },
    {
     "name": "stdout",
     "output_type": "stream",
     "text": [
      "Saved to: /Users/folasewaabdulsalam/Seizure_Onset_Prediction/data/preprocessed/chb03_04_preprocessed.npz\n",
      "\n",
      "NOTE: pick_channels() is a legacy function. New code should use inst.pick(...).\n",
      "NOTE: pick_channels() is a legacy function. New code should use inst.pick(...).\n"
     ]
    },
    {
     "name": "stderr",
     "output_type": "stream",
     "text": [
      "/var/folders/2r/22chk4fn06j2bd_2pbrv5vcm0000gn/T/ipykernel_28920/2455710421.py:6: RuntimeWarning: Channel names are not unique, found duplicates for: {'T8-P8'}. Applying running numbers for duplicates.\n",
      "  raw = mne.io.read_raw_edf(edf_path, preload=True, verbose=False)\n"
     ]
    },
    {
     "name": "stdout",
     "output_type": "stream",
     "text": [
      "Saved to: /Users/folasewaabdulsalam/Seizure_Onset_Prediction/data/preprocessed/chb01_03_preprocessed.npz\n",
      "\n",
      "NOTE: pick_channels() is a legacy function. New code should use inst.pick(...).\n",
      "NOTE: pick_channels() is a legacy function. New code should use inst.pick(...).\n"
     ]
    },
    {
     "name": "stderr",
     "output_type": "stream",
     "text": [
      "/var/folders/2r/22chk4fn06j2bd_2pbrv5vcm0000gn/T/ipykernel_28920/2455710421.py:6: RuntimeWarning: Channel names are not unique, found duplicates for: {'T8-P8'}. Applying running numbers for duplicates.\n",
      "  raw = mne.io.read_raw_edf(edf_path, preload=True, verbose=False)\n"
     ]
    },
    {
     "name": "stdout",
     "output_type": "stream",
     "text": [
      "Saved to: /Users/folasewaabdulsalam/Seizure_Onset_Prediction/data/preprocessed/chb01_16_preprocessed.npz\n",
      "\n",
      "NOTE: pick_channels() is a legacy function. New code should use inst.pick(...).\n",
      "NOTE: pick_channels() is a legacy function. New code should use inst.pick(...).\n"
     ]
    },
    {
     "name": "stderr",
     "output_type": "stream",
     "text": [
      "/var/folders/2r/22chk4fn06j2bd_2pbrv5vcm0000gn/T/ipykernel_28920/2455710421.py:6: RuntimeWarning: Channel names are not unique, found duplicates for: {'T8-P8'}. Applying running numbers for duplicates.\n",
      "  raw = mne.io.read_raw_edf(edf_path, preload=True, verbose=False)\n"
     ]
    },
    {
     "name": "stdout",
     "output_type": "stream",
     "text": [
      "Saved to: /Users/folasewaabdulsalam/Seizure_Onset_Prediction/data/preprocessed/chb03_03_preprocessed.npz\n",
      "\n",
      "NOTE: pick_channels() is a legacy function. New code should use inst.pick(...).\n",
      "NOTE: pick_channels() is a legacy function. New code should use inst.pick(...).\n"
     ]
    },
    {
     "name": "stderr",
     "output_type": "stream",
     "text": [
      "/var/folders/2r/22chk4fn06j2bd_2pbrv5vcm0000gn/T/ipykernel_28920/2455710421.py:6: RuntimeWarning: Channel names are not unique, found duplicates for: {'T8-P8'}. Applying running numbers for duplicates.\n",
      "  raw = mne.io.read_raw_edf(edf_path, preload=True, verbose=False)\n"
     ]
    },
    {
     "name": "stdout",
     "output_type": "stream",
     "text": [
      "Saved to: /Users/folasewaabdulsalam/Seizure_Onset_Prediction/data/preprocessed/chb03_02_preprocessed.npz\n",
      "\n"
     ]
    },
    {
     "name": "stderr",
     "output_type": "stream",
     "text": [
      "/var/folders/2r/22chk4fn06j2bd_2pbrv5vcm0000gn/T/ipykernel_28920/2455710421.py:6: RuntimeWarning: Channel names are not unique, found duplicates for: {'T8-P8'}. Applying running numbers for duplicates.\n",
      "  raw = mne.io.read_raw_edf(edf_path, preload=True, verbose=False)\n"
     ]
    },
    {
     "name": "stdout",
     "output_type": "stream",
     "text": [
      "NOTE: pick_channels() is a legacy function. New code should use inst.pick(...).\n",
      "NOTE: pick_channels() is a legacy function. New code should use inst.pick(...).\n",
      "Saved to: /Users/folasewaabdulsalam/Seizure_Onset_Prediction/data/preprocessed/chb06_18_preprocessed.npz\n",
      "\n"
     ]
    },
    {
     "name": "stderr",
     "output_type": "stream",
     "text": [
      "/var/folders/2r/22chk4fn06j2bd_2pbrv5vcm0000gn/T/ipykernel_28920/2455710421.py:6: RuntimeWarning: Channel names are not unique, found duplicates for: {'T8-P8'}. Applying running numbers for duplicates.\n",
      "  raw = mne.io.read_raw_edf(edf_path, preload=True, verbose=False)\n"
     ]
    },
    {
     "name": "stdout",
     "output_type": "stream",
     "text": [
      "NOTE: pick_channels() is a legacy function. New code should use inst.pick(...).\n",
      "NOTE: pick_channels() is a legacy function. New code should use inst.pick(...).\n",
      "Saved to: /Users/folasewaabdulsalam/Seizure_Onset_Prediction/data/preprocessed/chb06_24_preprocessed.npz\n",
      "\n",
      "NOTE: pick_channels() is a legacy function. New code should use inst.pick(...).\n",
      "NOTE: pick_channels() is a legacy function. New code should use inst.pick(...).\n"
     ]
    },
    {
     "name": "stderr",
     "output_type": "stream",
     "text": [
      "/var/folders/2r/22chk4fn06j2bd_2pbrv5vcm0000gn/T/ipykernel_28920/2455710421.py:6: RuntimeWarning: Channel names are not unique, found duplicates for: {'T8-P8'}. Applying running numbers for duplicates.\n",
      "  raw = mne.io.read_raw_edf(edf_path, preload=True, verbose=False)\n"
     ]
    },
    {
     "name": "stdout",
     "output_type": "stream",
     "text": [
      "Saved to: /Users/folasewaabdulsalam/Seizure_Onset_Prediction/data/preprocessed/chb01_04_preprocessed.npz\n",
      "\n",
      "NOTE: pick_channels() is a legacy function. New code should use inst.pick(...).\n",
      "NOTE: pick_channels() is a legacy function. New code should use inst.pick(...).\n"
     ]
    },
    {
     "name": "stderr",
     "output_type": "stream",
     "text": [
      "/var/folders/2r/22chk4fn06j2bd_2pbrv5vcm0000gn/T/ipykernel_28920/2455710421.py:6: RuntimeWarning: Channel names are not unique, found duplicates for: {'T8-P8'}. Applying running numbers for duplicates.\n",
      "  raw = mne.io.read_raw_edf(edf_path, preload=True, verbose=False)\n"
     ]
    },
    {
     "name": "stdout",
     "output_type": "stream",
     "text": [
      "Saved to: /Users/folasewaabdulsalam/Seizure_Onset_Prediction/data/preprocessed/chb03_01_preprocessed.npz\n",
      "\n"
     ]
    },
    {
     "name": "stderr",
     "output_type": "stream",
     "text": [
      "/var/folders/2r/22chk4fn06j2bd_2pbrv5vcm0000gn/T/ipykernel_28920/2455710421.py:6: RuntimeWarning: Channel names are not unique, found duplicates for: {'T8-P8'}. Applying running numbers for duplicates.\n",
      "  raw = mne.io.read_raw_edf(edf_path, preload=True, verbose=False)\n"
     ]
    },
    {
     "name": "stdout",
     "output_type": "stream",
     "text": [
      "NOTE: pick_channels() is a legacy function. New code should use inst.pick(...).\n",
      "NOTE: pick_channels() is a legacy function. New code should use inst.pick(...).\n",
      "Saved to: /Users/folasewaabdulsalam/Seizure_Onset_Prediction/data/preprocessed/chb04_08_preprocessed.npz\n",
      "\n",
      "NOTE: pick_channels() is a legacy function. New code should use inst.pick(...).\n",
      "NOTE: pick_channels() is a legacy function. New code should use inst.pick(...).\n"
     ]
    },
    {
     "name": "stderr",
     "output_type": "stream",
     "text": [
      "/var/folders/2r/22chk4fn06j2bd_2pbrv5vcm0000gn/T/ipykernel_28920/2455710421.py:6: RuntimeWarning: Channel names are not unique, found duplicates for: {'T8-P8'}. Applying running numbers for duplicates.\n",
      "  raw = mne.io.read_raw_edf(edf_path, preload=True, verbose=False)\n"
     ]
    },
    {
     "name": "stdout",
     "output_type": "stream",
     "text": [
      "Saved to: /Users/folasewaabdulsalam/Seizure_Onset_Prediction/data/preprocessed/chb05_13_preprocessed.npz\n",
      "\n",
      "NOTE: pick_channels() is a legacy function. New code should use inst.pick(...).\n",
      "NOTE: pick_channels() is a legacy function. New code should use inst.pick(...).\n"
     ]
    },
    {
     "name": "stderr",
     "output_type": "stream",
     "text": [
      "/var/folders/2r/22chk4fn06j2bd_2pbrv5vcm0000gn/T/ipykernel_28920/2455710421.py:6: RuntimeWarning: Channel names are not unique, found duplicates for: {'T8-P8'}. Applying running numbers for duplicates.\n",
      "  raw = mne.io.read_raw_edf(edf_path, preload=True, verbose=False)\n"
     ]
    },
    {
     "name": "stdout",
     "output_type": "stream",
     "text": [
      "Saved to: /Users/folasewaabdulsalam/Seizure_Onset_Prediction/data/preprocessed/chb05_06_preprocessed.npz\n",
      "\n",
      "NOTE: pick_channels() is a legacy function. New code should use inst.pick(...).\n",
      "NOTE: pick_channels() is a legacy function. New code should use inst.pick(...).\n"
     ]
    },
    {
     "name": "stderr",
     "output_type": "stream",
     "text": [
      "/var/folders/2r/22chk4fn06j2bd_2pbrv5vcm0000gn/T/ipykernel_28920/2455710421.py:6: RuntimeWarning: Channel names are not unique, found duplicates for: {'T8-P8'}. Applying running numbers for duplicates.\n",
      "  raw = mne.io.read_raw_edf(edf_path, preload=True, verbose=False)\n"
     ]
    },
    {
     "name": "stdout",
     "output_type": "stream",
     "text": [
      "Saved to: /Users/folasewaabdulsalam/Seizure_Onset_Prediction/data/preprocessed/chb02_19_preprocessed.npz\n",
      "\n",
      "NOTE: pick_channels() is a legacy function. New code should use inst.pick(...).\n",
      "NOTE: pick_channels() is a legacy function. New code should use inst.pick(...).\n"
     ]
    },
    {
     "name": "stderr",
     "output_type": "stream",
     "text": [
      "/var/folders/2r/22chk4fn06j2bd_2pbrv5vcm0000gn/T/ipykernel_28920/2455710421.py:6: RuntimeWarning: Channel names are not unique, found duplicates for: {'T8-P8'}. Applying running numbers for duplicates.\n",
      "  raw = mne.io.read_raw_edf(edf_path, preload=True, verbose=False)\n"
     ]
    },
    {
     "name": "stdout",
     "output_type": "stream",
     "text": [
      "Saved to: /Users/folasewaabdulsalam/Seizure_Onset_Prediction/data/preprocessed/chb02_16+_preprocessed.npz\n",
      "\n",
      "NOTE: pick_channels() is a legacy function. New code should use inst.pick(...).\n",
      "NOTE: pick_channels() is a legacy function. New code should use inst.pick(...).\n"
     ]
    },
    {
     "name": "stderr",
     "output_type": "stream",
     "text": [
      "/var/folders/2r/22chk4fn06j2bd_2pbrv5vcm0000gn/T/ipykernel_28920/2455710421.py:6: RuntimeWarning: Channel names are not unique, found duplicates for: {'T8-P8'}. Applying running numbers for duplicates.\n",
      "  raw = mne.io.read_raw_edf(edf_path, preload=True, verbose=False)\n"
     ]
    },
    {
     "name": "stdout",
     "output_type": "stream",
     "text": [
      "Saved to: /Users/folasewaabdulsalam/Seizure_Onset_Prediction/data/preprocessed/chb02_35_preprocessed.npz\n",
      "\n",
      "NOTE: pick_channels() is a legacy function. New code should use inst.pick(...).\n",
      "NOTE: pick_channels() is a legacy function. New code should use inst.pick(...).\n"
     ]
    },
    {
     "name": "stderr",
     "output_type": "stream",
     "text": [
      "/var/folders/2r/22chk4fn06j2bd_2pbrv5vcm0000gn/T/ipykernel_28920/2455710421.py:6: RuntimeWarning: Channel names are not unique, found duplicates for: {'T8-P8'}. Applying running numbers for duplicates.\n",
      "  raw = mne.io.read_raw_edf(edf_path, preload=True, verbose=False)\n"
     ]
    },
    {
     "name": "stdout",
     "output_type": "stream",
     "text": [
      "Saved to: /Users/folasewaabdulsalam/Seizure_Onset_Prediction/data/preprocessed/chb05_16_preprocessed.npz\n",
      "\n",
      "NOTE: pick_channels() is a legacy function. New code should use inst.pick(...).\n",
      "NOTE: pick_channels() is a legacy function. New code should use inst.pick(...).\n"
     ]
    },
    {
     "name": "stderr",
     "output_type": "stream",
     "text": [
      "/var/folders/2r/22chk4fn06j2bd_2pbrv5vcm0000gn/T/ipykernel_28920/2455710421.py:6: RuntimeWarning: Channel names are not unique, found duplicates for: {'T8-P8'}. Applying running numbers for duplicates.\n",
      "  raw = mne.io.read_raw_edf(edf_path, preload=True, verbose=False)\n"
     ]
    },
    {
     "name": "stdout",
     "output_type": "stream",
     "text": [
      "Saved to: /Users/folasewaabdulsalam/Seizure_Onset_Prediction/data/preprocessed/chb05_17_preprocessed.npz\n",
      "\n"
     ]
    }
   ],
   "source": [
    "preprocess_and_save(\"/Users/folasewaabdulsalam/Seizure_Onset_Prediction/data\")"
   ]
  },
  {
   "cell_type": "code",
   "execution_count": 14,
   "id": "bbfc1388",
   "metadata": {},
   "outputs": [
    {
     "name": "stdout",
     "output_type": "stream",
     "text": [
      "Segmented and saved: /Users/folasewaabdulsalam/Seizure_Onset_Prediction/data/segmented/chb01_04_segmented.npz\n",
      "Segmented and saved: /Users/folasewaabdulsalam/Seizure_Onset_Prediction/data/segmented/chb03_04_segmented.npz\n",
      "Segmented and saved: /Users/folasewaabdulsalam/Seizure_Onset_Prediction/data/segmented/chb02_35_segmented.npz\n",
      "Segmented and saved: /Users/folasewaabdulsalam/Seizure_Onset_Prediction/data/segmented/chb01_21_segmented.npz\n",
      "Segmented and saved: /Users/folasewaabdulsalam/Seizure_Onset_Prediction/data/segmented/chb03_35_segmented.npz\n",
      "Segmented and saved: /Users/folasewaabdulsalam/Seizure_Onset_Prediction/data/segmented/chb02_14_segmented.npz\n",
      "Segmented and saved: /Users/folasewaabdulsalam/Seizure_Onset_Prediction/data/segmented/chb06_01_segmented.npz\n",
      "Segmented and saved: /Users/folasewaabdulsalam/Seizure_Onset_Prediction/data/segmented/chb02_05_segmented.npz\n",
      "Segmented and saved: /Users/folasewaabdulsalam/Seizure_Onset_Prediction/data/segmented/chb03_01_segmented.npz\n",
      "Segmented and saved: /Users/folasewaabdulsalam/Seizure_Onset_Prediction/data/segmented/chb04_05_segmented.npz\n",
      "Segmented and saved: /Users/folasewaabdulsalam/Seizure_Onset_Prediction/data/segmented/chb01_15_segmented.npz\n",
      "Segmented and saved: /Users/folasewaabdulsalam/Seizure_Onset_Prediction/data/segmented/chb06_24_segmented.npz\n",
      "Segmented and saved: /Users/folasewaabdulsalam/Seizure_Onset_Prediction/data/segmented/chb03_34_segmented.npz\n",
      "Segmented and saved: /Users/folasewaabdulsalam/Seizure_Onset_Prediction/data/segmented/chb06_09_segmented.npz\n",
      "Segmented and saved: /Users/folasewaabdulsalam/Seizure_Onset_Prediction/data/segmented/chb02_19_segmented.npz\n",
      "Segmented and saved: /Users/folasewaabdulsalam/Seizure_Onset_Prediction/data/segmented/chb05_16_segmented.npz\n",
      "Segmented and saved: /Users/folasewaabdulsalam/Seizure_Onset_Prediction/data/segmented/chb04_28_segmented.npz\n",
      "Segmented and saved: /Users/folasewaabdulsalam/Seizure_Onset_Prediction/data/segmented/chb03_02_segmented.npz\n",
      "Segmented and saved: /Users/folasewaabdulsalam/Seizure_Onset_Prediction/data/segmented/chb05_06_segmented.npz\n",
      "Segmented and saved: /Users/folasewaabdulsalam/Seizure_Onset_Prediction/data/segmented/chb01_16_segmented.npz\n",
      "Segmented and saved: /Users/folasewaabdulsalam/Seizure_Onset_Prediction/data/segmented/chb05_22_segmented.npz\n",
      "Segmented and saved: /Users/folasewaabdulsalam/Seizure_Onset_Prediction/data/segmented/chb02_16+_segmented.npz\n",
      "Segmented and saved: /Users/folasewaabdulsalam/Seizure_Onset_Prediction/data/segmented/chb01_43_segmented.npz\n",
      "Segmented and saved: /Users/folasewaabdulsalam/Seizure_Onset_Prediction/data/segmented/chb04_08_segmented.npz\n",
      "Segmented and saved: /Users/folasewaabdulsalam/Seizure_Onset_Prediction/data/segmented/chb05_17_segmented.npz\n",
      "Segmented and saved: /Users/folasewaabdulsalam/Seizure_Onset_Prediction/data/segmented/chb01_18_segmented.npz\n",
      "Segmented and saved: /Users/folasewaabdulsalam/Seizure_Onset_Prediction/data/segmented/chb01_26_segmented.npz\n",
      "Segmented and saved: /Users/folasewaabdulsalam/Seizure_Onset_Prediction/data/segmented/chb05_13_segmented.npz\n",
      "Segmented and saved: /Users/folasewaabdulsalam/Seizure_Onset_Prediction/data/segmented/chb03_36_segmented.npz\n",
      "Segmented and saved: /Users/folasewaabdulsalam/Seizure_Onset_Prediction/data/segmented/chb01_03_segmented.npz\n",
      "Segmented and saved: /Users/folasewaabdulsalam/Seizure_Onset_Prediction/data/segmented/chb06_18_segmented.npz\n",
      "Segmented and saved: /Users/folasewaabdulsalam/Seizure_Onset_Prediction/data/segmented/chb03_03_segmented.npz\n"
     ]
    }
   ],
   "source": [
    "batch_segment_preprocessed(\"/Users/folasewaabdulsalam/Seizure_Onset_Prediction/data\")"
   ]
  },
  {
   "cell_type": "code",
   "execution_count": 15,
   "id": "9f401a6c",
   "metadata": {},
   "outputs": [
    {
     "data": {
      "text/plain": [
       "(array([[[ 0.00000000e+00, -1.35960718e-05, -2.55429031e-05, ...,\n",
       "           2.86629331e-06,  3.96613038e-06,  5.46240466e-06],\n",
       "         [-5.08219768e-21, -2.68976641e-05, -4.95394375e-05, ...,\n",
       "          -4.99190179e-06, -2.22519094e-06,  3.70535372e-07],\n",
       "         [ 2.54109884e-21,  3.32203433e-06,  5.93529761e-06, ...,\n",
       "          -6.04615515e-06, -4.67254195e-06, -3.54968208e-06],\n",
       "         ...,\n",
       "         [ 1.92699996e-20,  9.13510980e-05,  1.64215554e-04, ...,\n",
       "          -1.88236549e-05, -1.60874233e-05, -1.28454411e-05],\n",
       "         [-6.77626358e-21,  1.91825945e-05,  3.51258224e-05, ...,\n",
       "          -1.28070423e-05, -6.10947341e-06,  6.25140667e-07],\n",
       "         [ 6.77626358e-21, -6.43757213e-06, -1.26452167e-05, ...,\n",
       "           9.51379809e-06,  8.81254252e-06,  7.16722906e-06]],\n",
       " \n",
       "        [[ 1.27717210e-05,  1.11713881e-05,  8.59658310e-06, ...,\n",
       "           7.96167595e-06,  9.85443600e-06,  1.25310722e-05],\n",
       "         [-5.09818571e-06, -9.13789246e-06, -1.20761935e-05, ...,\n",
       "           4.55893005e-06,  3.99790872e-06,  3.26344573e-06],\n",
       "         [ 3.86961521e-06,  3.25024124e-07, -2.58509253e-06, ...,\n",
       "           9.24037702e-06,  8.20673295e-06,  7.47082309e-06],\n",
       "         ...,\n",
       "         [ 3.41963914e-05,  3.16342429e-05,  2.93445154e-05, ...,\n",
       "          -1.69572596e-05, -1.83549099e-05, -1.84696591e-05],\n",
       "         [ 1.20174855e-05,  6.67045197e-06,  6.54762845e-07, ...,\n",
       "          -6.29237782e-06, -5.82684526e-06, -5.27052037e-06],\n",
       "         [ 1.57749092e-05,  1.27879600e-05,  1.03337488e-05, ...,\n",
       "           1.79186858e-05,  1.51068090e-05,  1.23881958e-05]],\n",
       " \n",
       "        [[ 7.24299645e-06,  9.06729096e-06,  1.06326207e-05, ...,\n",
       "           1.84811931e-05,  1.63710247e-05,  1.33420165e-05],\n",
       "         [ 2.71114528e-06,  4.76745498e-06,  6.54169064e-06, ...,\n",
       "           2.11537390e-06,  5.34295489e-07, -1.56343249e-06],\n",
       "         [-2.55142849e-06, -1.62494157e-06, -8.10868430e-07, ...,\n",
       "           4.32646366e-06,  1.22111881e-06, -2.65942181e-06],\n",
       "         ...,\n",
       "         [-9.75908175e-06, -7.53882098e-06, -6.65759739e-06, ...,\n",
       "           1.02008335e-05,  6.83192295e-06,  2.98891795e-06],\n",
       "         [ 6.49048702e-06,  1.08222045e-05,  1.33506908e-05, ...,\n",
       "           1.41936781e-05,  1.36326058e-05,  1.30386521e-05],\n",
       "         [ 4.44134360e-06,  8.35680570e-07, -3.14354418e-06, ...,\n",
       "          -6.49964727e-06, -1.04288688e-05, -1.36609456e-05]],\n",
       " \n",
       "        ...,\n",
       " \n",
       "        [[ 4.36175391e-06,  6.68831978e-06,  8.10794114e-06, ...,\n",
       "           4.78582266e-06,  5.97197168e-06,  7.11732997e-06],\n",
       "         [-2.67214057e-05, -2.59486003e-05, -2.50724832e-05, ...,\n",
       "           2.16122437e-05,  2.46736967e-05,  2.85890458e-05],\n",
       "         [ 1.51597908e-05,  1.38103702e-05,  1.24782162e-05, ...,\n",
       "           2.55853820e-06,  2.01506180e-06,  2.20442195e-06],\n",
       "         ...,\n",
       "         [ 6.57086056e-06,  5.01326991e-06,  3.87190357e-06, ...,\n",
       "           1.46344957e-05,  1.38770946e-05,  1.31890720e-05],\n",
       "         [ 1.43977517e-05,  1.37294198e-05,  1.33259675e-05, ...,\n",
       "           1.42942960e-05,  1.36662730e-05,  1.30591301e-05],\n",
       "         [ 4.83457079e-06,  2.62106792e-06,  1.20979557e-06, ...,\n",
       "           8.59625873e-06,  9.16828296e-06,  9.23822566e-06]],\n",
       " \n",
       "        [[ 1.48591577e-05,  1.55064227e-05,  1.57449282e-05, ...,\n",
       "           1.32378423e-06,  5.75065178e-07, -5.79464659e-07],\n",
       "         [ 1.51617960e-06,  8.36537998e-07,  3.29840571e-07, ...,\n",
       "          -5.81251544e-06, -5.59679742e-06, -5.56373944e-06],\n",
       "         [-1.22676817e-05, -1.61211357e-05, -1.96608984e-05, ...,\n",
       "           9.08412631e-06,  1.05058092e-05,  1.13727486e-05],\n",
       "         ...,\n",
       "         [-1.19055210e-06, -2.48791431e-06, -3.59510447e-06, ...,\n",
       "          -8.16124075e-06, -7.20508221e-06, -5.86640368e-06],\n",
       "         [ 3.28333197e-07,  1.25407980e-06,  1.58775514e-06, ...,\n",
       "           2.37852464e-05,  2.64363183e-05,  2.74011478e-05],\n",
       "         [ 3.10260485e-06,  1.00386617e-06, -1.31236157e-06, ...,\n",
       "          -2.65502212e-06, -4.66919934e-06, -6.64529342e-06]],\n",
       " \n",
       "        [[ 8.19344294e-06,  9.15505892e-06,  9.96201937e-06, ...,\n",
       "           4.78127991e-06,  2.62658403e-06, -4.23516474e-22],\n",
       "         [ 3.29159761e-05,  3.70404664e-05,  4.03524548e-05, ...,\n",
       "          -1.32225636e-05, -7.09010142e-06,  0.00000000e+00],\n",
       "         [ 2.73369474e-06,  3.02567270e-06,  2.56568132e-06, ...,\n",
       "          -1.22508882e-05, -7.11190963e-06,  4.23516474e-21],\n",
       "         ...,\n",
       "         [ 1.28215523e-05,  1.29097342e-05,  1.34681795e-05, ...,\n",
       "          -1.15706681e-06, -3.96139403e-07,  0.00000000e+00],\n",
       "         [ 1.27190978e-05,  1.27515653e-05,  1.31052841e-05, ...,\n",
       "           3.20268697e-06,  1.33847631e-06,  3.81164826e-21],\n",
       "         [ 8.97582062e-06,  8.62724267e-06,  8.45792761e-06, ...,\n",
       "          -2.77458239e-06, -1.54732015e-06,  3.38813179e-21]]],\n",
       "       shape=(178207, 17, 512)),\n",
       " array([0, 0, 0, ..., 0, 0, 0], shape=(178207,)))"
      ]
     },
     "execution_count": 15,
     "metadata": {},
     "output_type": "execute_result"
    }
   ],
   "source": [
    "load_segmented_dataset(\"/Users/folasewaabdulsalam/Seizure_Onset_Prediction/data/segmented\")"
   ]
  },
  {
   "cell_type": "code",
   "execution_count": null,
   "id": "0d454adb",
   "metadata": {},
   "outputs": [],
   "source": []
  }
 ],
 "metadata": {
  "kernelspec": {
   "display_name": "venv (3.13.2)",
   "language": "python",
   "name": "python3"
  },
  "language_info": {
   "codemirror_mode": {
    "name": "ipython",
    "version": 3
   },
   "file_extension": ".py",
   "mimetype": "text/x-python",
   "name": "python",
   "nbconvert_exporter": "python",
   "pygments_lexer": "ipython3",
   "version": "3.13.2"
  }
 },
 "nbformat": 4,
 "nbformat_minor": 5
}
