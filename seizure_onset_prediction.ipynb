{
 "cells": [
  {
   "cell_type": "markdown",
   "id": "9ee39237",
   "metadata": {},
   "source": [
    "Import Libraries"
   ]
  },
  {
   "cell_type": "code",
   "execution_count": 1,
   "id": "14015f59",
   "metadata": {},
   "outputs": [],
   "source": [
    "import os\n",
    "import pandas as pd\n",
    "import numpy as np\n",
    "import matplotlib.pyplot as plt\n",
    "from scipy.signal import butter, lfilter, welch\n",
    "from scipy import stats\n",
    "import mne\n",
    "from sklearn.model_selection import train_test_split, StratifiedKFold\n",
    "from sklearn.preprocessing import StandardScaler\n",
    "from sklearn.ensemble import RandomForestClassifier\n",
    "from sklearn.metrics import classification_report, confusion_matrix, f1_score"
   ]
  },
  {
   "cell_type": "markdown",
   "id": "60b8be98",
   "metadata": {},
   "source": [
    "Summary file parsing to extract seizure start and end times"
   ]
  },
  {
   "cell_type": "code",
   "execution_count": null,
   "id": "adf5f9d1",
   "metadata": {},
   "outputs": [],
   "source": [
    "def extract_seizure_events_from_txt(data_path):\n",
    "    \"\"\"\"\n",
    "    Searches for the .txt summary file in a folder, parses seizure times.\n",
    "    \"\"\"\n",
    "    seizure_info = {}\n",
    "    summary_file = None\n",
    "\n",
    "    for fname in os.listdir(data_path):\n",
    "        if fname.endswith(\".txt\"):\n",
    "            summary_file = os.path.join(data_path, fname)\n",
    "            break\n",
    "    if summary_file is None:\n",
    "        raise FileNotFoundError(\"No Summary Text File Found!\")\n",
    "    \n",
    "    current_file = None \n",
    "    with open(summary_file, \"r\") as f:\n",
    "        for line in f:\n",
    "            line = line.strip()\n",
    "            if line.startswith(\"File Name:\"):\n",
    "                current_file = line.split(\":\")[1].strip()\n",
    "                seizure_info[current_file] = []\n",
    "            elif line.startswith(\"Seizure Start Time:\"):\n",
    "                start_time = int(line.split(\":\")[1].strip().split()[0])\n",
    "            elif line.startswith(\"Seizure End Time:\"):\n",
    "                end_time = int(line.split(\":\")[1].strip()[0])\n",
    "                seizure_info[current_file].append((start_time, end_time))\n",
    "    return seizure_info"
   ]
  },
  {
   "cell_type": "markdown",
   "id": "53420657",
   "metadata": {},
   "source": [
    "Data Loading"
   ]
  },
  {
   "cell_type": "code",
   "execution_count": null,
   "id": "3968377a",
   "metadata": {},
   "outputs": [],
   "source": []
  },
  {
   "cell_type": "code",
   "execution_count": null,
   "id": "62c7170a",
   "metadata": {},
   "outputs": [],
   "source": []
  },
  {
   "cell_type": "markdown",
   "id": "011a8914",
   "metadata": {},
   "source": []
  }
 ],
 "metadata": {
  "kernelspec": {
   "display_name": "venv (3.13.2)",
   "language": "python",
   "name": "python3"
  },
  "language_info": {
   "codemirror_mode": {
    "name": "ipython",
    "version": 3
   },
   "file_extension": ".py",
   "mimetype": "text/x-python",
   "name": "python",
   "nbconvert_exporter": "python",
   "pygments_lexer": "ipython3",
   "version": "3.13.2"
  }
 },
 "nbformat": 4,
 "nbformat_minor": 5
}
